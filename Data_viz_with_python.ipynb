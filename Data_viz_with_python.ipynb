{
 "cells": [
  {
   "cell_type": "code",
   "execution_count": 21,
   "id": "355355ce",
   "metadata": {},
   "outputs": [],
   "source": [
    "import pandas as pd\n",
    "import matplotlib.pyplot as plt\n",
    "import numpy as np\n",
    "%matplotlib inline"
   ]
  },
  {
   "cell_type": "code",
   "execution_count": 4,
   "id": "b66eb659",
   "metadata": {},
   "outputs": [],
   "source": [
    "df = pd.read_excel('superstore.xls')"
   ]
  },
  {
   "cell_type": "code",
   "execution_count": 22,
   "id": "58e15b9c",
   "metadata": {},
   "outputs": [
    {
     "data": {
      "text/plain": [
       "(Consumer       5191\n",
       " Corporate      3020\n",
       " Home Office    1783\n",
       " Name: Segment, dtype: int64,\n",
       " West       3203\n",
       " East       2848\n",
       " Central    2323\n",
       " South      1620\n",
       " Name: Region, dtype: int64,\n",
       " Office Supplies    6026\n",
       " Furniture          2121\n",
       " Technology         1847\n",
       " Name: Category, dtype: int64)"
      ]
     },
     "execution_count": 22,
     "metadata": {},
     "output_type": "execute_result"
    }
   ],
   "source": [
    "df['Segment'].value_counts(),df['Region'].value_counts(),df['Category'].value_counts()"
   ]
  },
  {
   "cell_type": "code",
   "execution_count": 19,
   "id": "d3264223",
   "metadata": {},
   "outputs": [],
   "source": [
    "df['Segment'] = df['Segment'].astype('category')\n",
    "df['Region'] = df['Region'].astype('category')\n",
    "df['Category'] = df['Category'].astype('category')"
   ]
  },
  {
   "cell_type": "code",
   "execution_count": 110,
   "id": "8a8dac15",
   "metadata": {},
   "outputs": [],
   "source": [
    "sales_df = df[['Segment','Sales','Region','Category']]\n",
    "\n",
    "sum_by_region = df[['Region','Sales']].groupby('Region').sum()\n",
    "sum_by_region = sum_by_region.reset_index()\n",
    "sum_region = sum_by_region.iloc[:,1:]\n",
    "label_region = sum_by_region.iloc[:,:1]\n",
    "\n",
    "x = np.arange(len(label_region)) # Encontrar el tamaño de las etiquetas\n",
    "labels = np.array(label_region) # Etiquetas\n",
    "width = 0.35 # ancho de la barra "
   ]
  },
  {
   "cell_type": "code",
   "execution_count": 111,
   "id": "bc805c9e",
   "metadata": {},
   "outputs": [],
   "source": [
    "# Suma individual de ventas por segmento por Region\n",
    "sum_by_seg_reg = df[['Region','Segment','Sales']].groupby(['Region','Segment']).sum()\n",
    "sum_by_seg_reg = sum_by_seg_reg.reset_index()\n",
    "\n",
    "reg_temp_1 = sum_by_seg_reg[sum_by_seg_reg['Segment'].isin(['Consumer'])]\n",
    "reg_temp_2 = sum_by_seg_reg[sum_by_seg_reg['Segment'].isin(['Corporate'])]\n",
    "reg_temp_3 = sum_by_seg_reg[sum_by_seg_reg['Segment'].isin(['Home Office'])]\n",
    "\n",
    "\n",
    "reg1 = np.array(reg_temp_1['Sales'])\n",
    "reg2 = np.array(reg_temp_2['Sales'])\n",
    "reg3 = np.array(reg_temp_3['Sales'])"
   ]
  },
  {
   "cell_type": "code",
   "execution_count": 114,
   "id": "f3970a65",
   "metadata": {},
   "outputs": [
    {
     "data": {
      "image/png": "[encoded data removed]",
      "text/plain": [
       "<Figure size 432x288 with 1 Axes>"
      ]
     },
     "metadata": {
      "needs_background": "light"
     },
     "output_type": "display_data"
    }
   ],
   "source": [
    "fig,ax = plt.subplots()\n",
    "\n",
    "rects1 = ax.bar(x - width/2, reg1, width, label='Consumer')\n",
    "rects2 = ax.bar(x - width/2, reg2, width, label='Corporate')\n",
    "rects3 = ax.bar(x - width/2, reg3, width, label='Home Office')\n",
    "\n",
    "\n",
    "ax.set_ylabel('Ventas')\n",
    "ax.set_title('Ventas Por Region / Segmento')\n",
    "ax.set_xticks(x)\n",
    "ax.set_xticklabels(labels)\n",
    "ax.legend()\n",
    "plt.show()"
   ]
  },
  {
   "cell_type": "code",
   "execution_count": null,
   "id": "7a8a31c3",
   "metadata": {},
   "outputs": [],
   "source": []
  }
 ],
 "metadata": {
  "kernelspec": {
   "display_name": "Python 3",
   "language": "python",
   "name": "python3"
  },
  "language_info": {
   "codemirror_mode": {
    "name": "ipython",
    "version": 3
   },
   "file_extension": ".py",
   "mimetype": "text/x-python",
   "name": "python",
   "nbconvert_exporter": "python",
   "pygments_lexer": "ipython3",
   "version": "3.8.8"
  }
 },
 "nbformat": 4,
 "nbformat_minor": 5
}
