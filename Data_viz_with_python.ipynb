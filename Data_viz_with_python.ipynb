{
 "cells": [
  {
   "cell_type": "code",
   "execution_count": 21,
   "id": "1c132f79",
   "metadata": {},
   "outputs": [],
   "source": [
    "import pandas as pd\n",
    "import matplotlib.pyplot as plt\n",
    "import numpy as np\n",
    "%matplotlib inline"
   ]
  },
  {
   "cell_type": "code",
   "execution_count": 122,
   "id": "046de634",
   "metadata": {},
   "outputs": [],
   "source": [
    "df = pd.read_excel('superstore.xls')"
   ]
  },
  {
   "cell_type": "code",
   "execution_count": 124,
   "id": "4fe36b32",
   "metadata": {},
   "outputs": [
    {
     "data": {
      "text/plain": [
       "(Consumer       5191\n",
       " Corporate      3020\n",
       " Home Office    1783\n",
       " Name: Segment, dtype: int64,\n",
       " West       3203\n",
       " East       2848\n",
       " Central    2323\n",
       " South      1620\n",
       " Name: Region, dtype: int64,\n",
       " Office Supplies    6026\n",
       " Furniture          2121\n",
       " Technology         1847\n",
       " Name: Category, dtype: int64)"
      ]
     },
     "execution_count": 124,
     "metadata": {},
     "output_type": "execute_result"
    }
   ],
   "source": [
    "df['Segment'].value_counts(),df['Region'].value_counts(),df['Category'].value_counts()"
   ]
  },
  {
   "cell_type": "code",
   "execution_count": 125,
   "id": "a6276029",
   "metadata": {},
   "outputs": [],
   "source": [
    "df['Segment'] = df['Segment'].astype('category')\n",
    "df['Region'] = df['Region'].astype('category')\n",
    "df['Category'] = df['Category'].astype('category')"
   ]
  },
  {
   "cell_type": "code",
   "execution_count": 126,
   "id": "4fe08ef1",
   "metadata": {},
   "outputs": [],
   "source": [
    "sales_df = df[['Segment','Sales','Region','Category']]\n",
    "\n",
    "sum_by_region = df[['Region','Sales']].groupby('Region').sum()\n",
    "sum_by_region = sum_by_region.reset_index()\n",
    "sum_region = sum_by_region.iloc[:,1:]\n",
    "label_region = sum_by_region.iloc[:,:1]\n",
    "\n",
    "x = np.arange(len(label_region)) # Encontrar el tamaño de las etiquetas\n",
    "labels = np.array(label_region) # Etiquetas\n",
    "width = 0.35 # ancho de la barra "
   ]
  },
  {
   "cell_type": "code",
   "execution_count": 127,
   "id": "12597ab8",
   "metadata": {},
   "outputs": [],
   "source": [
    "# Suma individual de ventas por segmento por Region\n",
    "sum_by_seg_reg = df[['Region','Segment','Sales']].groupby(['Region','Segment']).sum()\n",
    "sum_by_seg_reg = sum_by_seg_reg.reset_index()\n",
    "\n",
    "reg_temp_1 = sum_by_seg_reg[sum_by_seg_reg['Segment'].isin(['Consumer'])]\n",
    "reg_temp_2 = sum_by_seg_reg[sum_by_seg_reg['Segment'].isin(['Corporate'])]\n",
    "reg_temp_3 = sum_by_seg_reg[sum_by_seg_reg['Segment'].isin(['Home Office'])]\n",
    "\n",
    "\n",
    "reg1 = np.array(reg_temp_1['Sales'])\n",
    "reg2 = np.array(reg_temp_2['Sales'])\n",
    "reg3 = np.array(reg_temp_3['Sales'])"
   ]
  },
  {
   "cell_type": "code",
   "execution_count": 128,
   "id": "abc0cfa1",
   "metadata": {},
   "outputs": [
    {
     "data": {
      "image/png": "[encoded data removed]",
      "text/plain": [
       "<Figure size 432x288 with 1 Axes>"
      ]
     },
     "metadata": {
      "needs_background": "light"
     },
     "output_type": "display_data"
    }
   ],
   "source": [
    "fig,ax = plt.subplots()\n",
    "\n",
    "rects1 = ax.bar(x - width/2, reg1, width, label='Consumer')\n",
    "rects2 = ax.bar(x - width/2, reg2, width, label='Corporate')\n",
    "rects3 = ax.bar(x - width/2, reg3, width, label='Home Office')\n",
    "\n",
    "\n",
    "ax.set_ylabel('Ventas')\n",
    "ax.set_title('Ventas Por Region / Segmento')\n",
    "ax.set_xticks(x)\n",
    "ax.set_xticklabels(labels)\n",
    "ax.legend()\n",
    "plt.show()"
   ]
  },
  {
   "cell_type": "code",
   "execution_count": 129,
   "id": "8adec16b",
   "metadata": {
    "collapsed": true
   },
   "outputs": [
    {
     "name": "stdout",
     "output_type": "stream",
     "text": [
      "<class 'pandas.core.frame.DataFrame'>\n",
      "RangeIndex: 9994 entries, 0 to 9993\n",
      "Data columns (total 21 columns):\n",
      " #   Column         Non-Null Count  Dtype         \n",
      "---  ------         --------------  -----         \n",
      " 0   Row ID         9994 non-null   int64         \n",
      " 1   Order ID       9994 non-null   object        \n",
      " 2   Order Date     9994 non-null   datetime64[ns]\n",
      " 3   Ship Date      9994 non-null   datetime64[ns]\n",
      " 4   Ship Mode      9994 non-null   object        \n",
      " 5   Customer ID    9994 non-null   object        \n",
      " 6   Customer Name  9994 non-null   object        \n",
      " 7   Segment        9994 non-null   category      \n",
      " 8   Country        9994 non-null   object        \n",
      " 9   City           9994 non-null   object        \n",
      " 10  State          9994 non-null   object        \n",
      " 11  Postal Code    9994 non-null   int64         \n",
      " 12  Region         9994 non-null   category      \n",
      " 13  Product ID     9994 non-null   object        \n",
      " 14  Category       9994 non-null   category      \n",
      " 15  Sub-Category   9994 non-null   object        \n",
      " 16  Product Name   9994 non-null   object        \n",
      " 17  Sales          9994 non-null   float64       \n",
      " 18  Quantity       9994 non-null   int64         \n",
      " 19  Discount       9994 non-null   float64       \n",
      " 20  Profit         9994 non-null   float64       \n",
      "dtypes: category(3), datetime64[ns](2), float64(3), int64(3), object(10)\n",
      "memory usage: 1.4+ MB\n"
     ]
    }
   ],
   "source": [
    "df.info()"
   ]
  },
  {
   "cell_type": "markdown",
   "id": "5c259903",
   "metadata": {},
   "source": [
    "# Categoria de producto con mas Ventas."
   ]
  },
  {
   "cell_type": "code",
   "execution_count": 148,
   "id": "dcff6cf1",
   "metadata": {
    "collapsed": true
   },
   "outputs": [
    {
     "data": {
      "text/plain": [
       "Row ID                    Int64\n",
       "Order ID                 string\n",
       "Order Date       datetime64[ns]\n",
       "Ship Date        datetime64[ns]\n",
       "Ship Mode                string\n",
       "Customer ID              string\n",
       "Customer Name            string\n",
       "Segment                category\n",
       "Country                  string\n",
       "City                     string\n",
       "State                    string\n",
       "Postal Code               Int64\n",
       "Region                 category\n",
       "Product ID               string\n",
       "Category               category\n",
       "Sub-Category             string\n",
       "Product Name             string\n",
       "Sales                   Float64\n",
       "Quantity                  Int64\n",
       "Discount                Float64\n",
       "Profit                  Float64\n",
       "dtype: object"
      ]
     },
     "execution_count": 148,
     "metadata": {},
     "output_type": "execute_result"
    }
   ],
   "source": [
    "df.convert_dtypes().dtypes ## Ver recomendación de la función para los tipos de dato"
   ]
  },
  {
   "cell_type": "code",
   "execution_count": 173,
   "id": "6be72608",
   "metadata": {
    "collapsed": true
   },
   "outputs": [
    {
     "data": {
      "text/plain": [
       "(2016-09-05    38\n",
       " 2017-09-02    36\n",
       " 2016-11-10    35\n",
       " 2017-12-02    34\n",
       " 2017-12-01    34\n",
       "               ..\n",
       " 2016-02-25     1\n",
       " 2014-01-15     1\n",
       " 2014-09-24     1\n",
       " 2017-07-12     1\n",
       " 2015-12-09     1\n",
       " Name: Order Date, Length: 1237, dtype: int64,\n",
       " Office Supplies    6026\n",
       " Furniture          2121\n",
       " Technology         1847\n",
       " Name: Category, dtype: int64)"
      ]
     },
     "execution_count": 173,
     "metadata": {},
     "output_type": "execute_result"
    }
   ],
   "source": [
    "df['Order Date'].value_counts(), df['Category'].value_counts()"
   ]
  },
  {
   "cell_type": "code",
   "execution_count": 201,
   "id": "0bfef958",
   "metadata": {
    "collapsed": true
   },
   "outputs": [
    {
     "data": {
      "text/html": [
       "<div>\n",
       "<style scoped>\n",
       "    .dataframe tbody tr th:only-of-type {\n",
       "        vertical-align: middle;\n",
       "    }\n",
       "\n",
       "    .dataframe tbody tr th {\n",
       "        vertical-align: top;\n",
       "    }\n",
       "\n",
       "    .dataframe thead th {\n",
       "        text-align: right;\n",
       "    }\n",
       "</style>\n",
       "<table border=\"1\" class=\"dataframe\">\n",
       "  <thead>\n",
       "    <tr style=\"text-align: right;\">\n",
       "      <th></th>\n",
       "      <th>index</th>\n",
       "      <th>Category</th>\n",
       "      <th>Order Date</th>\n",
       "      <th>Sales</th>\n",
       "    </tr>\n",
       "  </thead>\n",
       "  <tbody>\n",
       "    <tr>\n",
       "      <th>0</th>\n",
       "      <td>0</td>\n",
       "      <td>Furniture</td>\n",
       "      <td>2014-01-31</td>\n",
       "      <td>6242.5250</td>\n",
       "    </tr>\n",
       "    <tr>\n",
       "      <th>1</th>\n",
       "      <td>1</td>\n",
       "      <td>Furniture</td>\n",
       "      <td>2014-04-30</td>\n",
       "      <td>24358.4510</td>\n",
       "    </tr>\n",
       "    <tr>\n",
       "      <th>2</th>\n",
       "      <td>2</td>\n",
       "      <td>Furniture</td>\n",
       "      <td>2014-07-31</td>\n",
       "      <td>30939.9636</td>\n",
       "    </tr>\n",
       "    <tr>\n",
       "      <th>3</th>\n",
       "      <td>3</td>\n",
       "      <td>Furniture</td>\n",
       "      <td>2014-10-31</td>\n",
       "      <td>43441.0743</td>\n",
       "    </tr>\n",
       "    <tr>\n",
       "      <th>4</th>\n",
       "      <td>4</td>\n",
       "      <td>Furniture</td>\n",
       "      <td>2015-01-31</td>\n",
       "      <td>63950.7808</td>\n",
       "    </tr>\n",
       "    <tr>\n",
       "      <th>5</th>\n",
       "      <td>5</td>\n",
       "      <td>Furniture</td>\n",
       "      <td>2015-04-30</td>\n",
       "      <td>26109.8555</td>\n",
       "    </tr>\n",
       "    <tr>\n",
       "      <th>6</th>\n",
       "      <td>6</td>\n",
       "      <td>Furniture</td>\n",
       "      <td>2015-07-31</td>\n",
       "      <td>30763.5495</td>\n",
       "    </tr>\n",
       "    <tr>\n",
       "      <th>7</th>\n",
       "      <td>7</td>\n",
       "      <td>Furniture</td>\n",
       "      <td>2015-10-31</td>\n",
       "      <td>47938.2387</td>\n",
       "    </tr>\n",
       "    <tr>\n",
       "      <th>8</th>\n",
       "      <td>8</td>\n",
       "      <td>Furniture</td>\n",
       "      <td>2016-01-31</td>\n",
       "      <td>61589.3947</td>\n",
       "    </tr>\n",
       "    <tr>\n",
       "      <th>9</th>\n",
       "      <td>9</td>\n",
       "      <td>Furniture</td>\n",
       "      <td>2016-04-30</td>\n",
       "      <td>29938.7330</td>\n",
       "    </tr>\n",
       "    <tr>\n",
       "      <th>10</th>\n",
       "      <td>10</td>\n",
       "      <td>Furniture</td>\n",
       "      <td>2016-07-31</td>\n",
       "      <td>41258.9260</td>\n",
       "    </tr>\n",
       "    <tr>\n",
       "      <th>11</th>\n",
       "      <td>11</td>\n",
       "      <td>Furniture</td>\n",
       "      <td>2016-10-31</td>\n",
       "      <td>51618.6902</td>\n",
       "    </tr>\n",
       "    <tr>\n",
       "      <th>12</th>\n",
       "      <td>12</td>\n",
       "      <td>Furniture</td>\n",
       "      <td>2017-01-31</td>\n",
       "      <td>74426.3758</td>\n",
       "    </tr>\n",
       "    <tr>\n",
       "      <th>13</th>\n",
       "      <td>13</td>\n",
       "      <td>Furniture</td>\n",
       "      <td>2017-04-30</td>\n",
       "      <td>26825.7403</td>\n",
       "    </tr>\n",
       "    <tr>\n",
       "      <th>14</th>\n",
       "      <td>14</td>\n",
       "      <td>Furniture</td>\n",
       "      <td>2017-07-31</td>\n",
       "      <td>47779.1669</td>\n",
       "    </tr>\n",
       "    <tr>\n",
       "      <th>15</th>\n",
       "      <td>15</td>\n",
       "      <td>Furniture</td>\n",
       "      <td>2017-10-31</td>\n",
       "      <td>66354.1482</td>\n",
       "    </tr>\n",
       "    <tr>\n",
       "      <th>16</th>\n",
       "      <td>16</td>\n",
       "      <td>Furniture</td>\n",
       "      <td>2018-01-31</td>\n",
       "      <td>68464.1818</td>\n",
       "    </tr>\n",
       "  </tbody>\n",
       "</table>\n",
       "</div>"
      ],
      "text/plain": [
       "    index   Category Order Date       Sales\n",
       "0       0  Furniture 2014-01-31   6242.5250\n",
       "1       1  Furniture 2014-04-30  24358.4510\n",
       "2       2  Furniture 2014-07-31  30939.9636\n",
       "3       3  Furniture 2014-10-31  43441.0743\n",
       "4       4  Furniture 2015-01-31  63950.7808\n",
       "5       5  Furniture 2015-04-30  26109.8555\n",
       "6       6  Furniture 2015-07-31  30763.5495\n",
       "7       7  Furniture 2015-10-31  47938.2387\n",
       "8       8  Furniture 2016-01-31  61589.3947\n",
       "9       9  Furniture 2016-04-30  29938.7330\n",
       "10     10  Furniture 2016-07-31  41258.9260\n",
       "11     11  Furniture 2016-10-31  51618.6902\n",
       "12     12  Furniture 2017-01-31  74426.3758\n",
       "13     13  Furniture 2017-04-30  26825.7403\n",
       "14     14  Furniture 2017-07-31  47779.1669\n",
       "15     15  Furniture 2017-10-31  66354.1482\n",
       "16     16  Furniture 2018-01-31  68464.1818"
      ]
     },
     "execution_count": 201,
     "metadata": {},
     "output_type": "execute_result"
    }
   ],
   "source": [
    "df['Order Date'] = pd.to_datetime(\n",
    "    df['Order Date'],\n",
    "    errors = 'coerse',\n",
    "    format = '%m/%d/%Y'\n",
    ")\n",
    "\n",
    "df_catg = df[['Order Date','Category','Sales']].groupby(['Category',pd.Grouper(key = 'Order Date',freq='3M')]).sum()\n",
    "df_catg = df_catg.reset_index()\n",
    "\n",
    "df_fur = df_catg[df_catg['Category'].isin(['Furniture'])].reset_index()\n",
    "df_ofc = df_catg[df_catg['Category'].isin(['Office Supplies'])].reset_index()\n",
    "df_tec = df_catg[df_catg['Category'].isin(['Technology'])].reset_index()"
   ]
  },
  {
   "cell_type": "code",
   "execution_count": 202,
   "id": "cc2e0dd2",
   "metadata": {},
   "outputs": [],
   "source": [
    "xdata1 = df_fur['Order Date']\n",
    "xdata2 = df_ofc['Order Date']\n",
    "xdata3 = df_tec['Order Date']\n",
    "\n",
    "ydata1 = df_fur['Sales']\n",
    "ydata2 = df_ofc['Sales']\n",
    "ydata3 = df_tec['Sales']"
   ]
  },
  {
   "cell_type": "code",
   "execution_count": 210,
   "id": "8c68f772",
   "metadata": {},
   "outputs": [
    {
     "data": {
      "image/png": "[encoded data removed]",
      "text/plain": [
       "<Figure size 432x288 with 1 Axes>"
      ]
     },
     "metadata": {
      "needs_background": "light"
     },
     "output_type": "display_data"
    }
   ],
   "source": [
    "fig = plt.figure()\n",
    "ax = fig.add_subplot(1,1,1)\n",
    "\n",
    "ax.plot(xdata1,ydata1,color='b',label='Furniture')\n",
    "ax.plot(xdata2,ydata2,color='r',label='Office Supplies')\n",
    "ax.plot(xdata3,ydata3,color='y',label='Technology')\n",
    "\n",
    "ax.set(xlabel='Trimestre',ylabel='$ Ventas',title='Ventas Trimestrales')\n",
    "ax.legend()\n",
    "plt.xticks(rotation=45)\n",
    "plt.show()"
   ]
  }
 ],
 "metadata": {
  "kernelspec": {
   "display_name": "Python 3",
   "language": "python",
   "name": "python3"
  },
  "language_info": {
   "codemirror_mode": {
    "name": "ipython",
    "version": 3
   },
   "file_extension": ".py",
   "mimetype": "text/x-python",
   "name": "python",
   "nbconvert_exporter": "python",
   "pygments_lexer": "ipython3",
   "version": "3.8.8"
  }
 },
 "nbformat": 4,
 "nbformat_minor": 5
}
